{
 "cells": [
  {
   "cell_type": "code",
   "execution_count": 2,
   "metadata": {},
   "outputs": [
    {
     "name": "stdout",
     "output_type": "stream",
     "text": [
      "41.041880706025566\n"
     ]
    }
   ],
   "source": [
    "#Question 1 HS Answer Code \n",
    "\n",
    "result = 384/16.43\n",
    "\n",
    "result += 17.67\n",
    "\n",
    "result = float(result)\n",
    "\n",
    "\n",
    "\n"
   ]
  },
  {
   "cell_type": "code",
   "execution_count": null,
   "metadata": {},
   "outputs": [],
   "source": [
    "#Q1 Favio Code differences\n",
    "#start same\n",
    "print(type(result))\n",
    "print(result)"
   ]
  },
  {
   "cell_type": "code",
   "execution_count": 1,
   "metadata": {},
   "outputs": [
    {
     "name": "stdout",
     "output_type": "stream",
     "text": [
      "[2, 'Python', 23.54, 'list']\n"
     ]
    }
   ],
   "source": [
    "#Question 2 HS Answer Code\n",
    "\n",
    "my_list = [2, 'Python', 23.54, 34, 'list']\n",
    "\n",
    "del(my_list[-2])\n",
    "print(my_list)"
   ]
  },
  {
   "cell_type": "code",
   "execution_count": null,
   "metadata": {},
   "outputs": [],
   "source": [
    "#Q2 Favio Code\n",
    "\n",
    "del my_list[-2] #bold face \"del\" don't need paranthesis "
   ]
  },
  {
   "cell_type": "code",
   "execution_count": 18,
   "metadata": {},
   "outputs": [
    {
     "name": "stdout",
     "output_type": "stream",
     "text": [
      "[2, 3, 4, 5, 20]\n"
     ]
    }
   ],
   "source": [
    "#Question 3 HS Answer Code\n",
    "\n",
    "my_tuple = (2,3,4,5,6,7,8,9,10,11,12,13,14,15)\n",
    "\n",
    "my_sliced_tuple = my_tuple[:5] \n",
    "my_sliced_tuple = list(my_sliced_tuple)\n",
    "my_sliced_tuple[4] = 20\n",
    "\n",
    "print(my_sliced_tuple)"
   ]
  },
  {
   "cell_type": "code",
   "execution_count": 2,
   "metadata": {},
   "outputs": [
    {
     "data": {
      "text/plain": [
       "(2, 3, 4, 20, 6)"
      ]
     },
     "execution_count": 2,
     "metadata": {},
     "output_type": "execute_result"
    }
   ],
   "source": [
    "#Q3 Favio Code\n",
    "\n",
    "my_tuple = tuple(range(2,16))\n",
    "my_sliced_tuple = my_tuple[:5]\n",
    "\n",
    "#much better to make a function than do it by hand\n",
    "#helpful in the long run to function\n",
    "def change_tuple(idx, n, tup):\n",
    "    l = list(tup)\n",
    "    l[idx] = n\n",
    "    return tuple(l)\n",
    "\n",
    "change_tuple(-2, 20, my_sliced_tuple)\n",
    "    \n"
   ]
  },
  {
   "cell_type": "code",
   "execution_count": 20,
   "metadata": {},
   "outputs": [
    {
     "name": "stdout",
     "output_type": "stream",
     "text": [
      "apple\n",
      "peach\n",
      "cherry\n",
      "banana\n"
     ]
    }
   ],
   "source": [
    "#Question 4 HS Answer Code\n",
    "fruits = ['apple','peach','cherry','banana','pear','orange','lemon']\n",
    "\n",
    "for item in fruits:\n",
    "    #extra line of code, not necessary, increases checks of data\n",
    "    if item != 'pear':\n",
    "        print(item)\n",
    "    if item == 'pear':\n",
    "        break\n",
    "        "
   ]
  },
  {
   "cell_type": "code",
   "execution_count": 3,
   "metadata": {},
   "outputs": [
    {
     "name": "stdout",
     "output_type": "stream",
     "text": [
      "apple\n",
      "peach\n",
      "cherry\n",
      "banana\n"
     ]
    }
   ],
   "source": [
    "#Q4 Favio Code\n",
    "\n",
    "fruits = ['apple','peach','cherry','banana','pear','orange','lemon']\n",
    "\n",
    "for elem in fruits:\n",
    "    if elem == 'pear':\n",
    "        break\n",
    "    #try to check the data as few times as possible\n",
    "    print(elem)\n",
    "    \n"
   ]
  },
  {
   "cell_type": "code",
   "execution_count": 22,
   "metadata": {},
   "outputs": [
    {
     "name": "stdout",
     "output_type": "stream",
     "text": [
      "{'Colorado': 'Avalanche', 'Boston': 'Bruins', 'Edmonton': 'Oilers', 'Minesota': 'Twins', 'Minnesota': 'Wild'}\n"
     ]
    }
   ],
   "source": [
    "#Question 5 HS Answer Code\n",
    "my_dict = {'Colorado':'Avalanche', 'Boston':'Bruins', 'Edmonton':'Oilers', 'Minesota':'Twins'}\n",
    "\n",
    "print(type(my_dict))\n",
    "print(my_dict)\n",
    "\n",
    "my_dict['Minnesota'] = 'Wild'\n"
   ]
  },
  {
   "cell_type": "code",
   "execution_count": 5,
   "metadata": {},
   "outputs": [
    {
     "name": "stdout",
     "output_type": "stream",
     "text": [
      "<class 'dict'>\n",
      "{'Colorado': 'Avalanche', 'Boston': 'Bruins', 'Edmonton': 'Oilers', 'Minesota': 'Twins'}\n",
      "{'Colorado': 'Avalanche', 'Boston': 'Bruins', 'Edmonton': 'Oilers', 'Minesota': 'Twins', 'Minnesota': 'Wild'}\n"
     ]
    }
   ],
   "source": [
    "#Q5 Favio Code\n",
    "\n",
    "my_dict = my_dict = {'Colorado':'Avalanche', 'Boston':'Bruins', 'Edmonton':'Oilers', 'Minesota':'Twins'}\n",
    "\n",
    "print(type(my_dict))\n",
    "print(my_dict)\n",
    "\n",
    "my_dict['Minnesota'] = 'Wild'\n",
    "print(my_dict)"
   ]
  },
  {
   "cell_type": "code",
   "execution_count": 27,
   "metadata": {},
   "outputs": [
    {
     "name": "stdout",
     "output_type": "stream",
     "text": [
      "91\n"
     ]
    }
   ],
   "source": [
    "#Question 6 HS Answer Code\n",
    "num = 0\n",
    "summ = 0 \n",
    "\n",
    "while num <= 12: \n",
    "    num += 1\n",
    "    summ += num\n",
    "        \n",
    "        \n",
    "print(summ)\n"
   ]
  },
  {
   "cell_type": "code",
   "execution_count": null,
   "metadata": {},
   "outputs": [],
   "source": [
    "#Q6 Favio Code \n",
    "\n",
    "x = 0 \n",
    "acc = 0 \n",
    "\n",
    "while x <= 12:\n",
    "    acc += x \n",
    "    x +=1\n",
    "else:\n",
    "    print(acc)\n",
    "\n"
   ]
  },
  {
   "cell_type": "code",
   "execution_count": 32,
   "metadata": {},
   "outputs": [
    {
     "name": "stdout",
     "output_type": "stream",
     "text": [
      "8\n",
      "2\n",
      "2\n",
      "5\n",
      "6\n",
      "4\n",
      "8\n",
      "20\n",
      "24\n",
      "6\n",
      "12\n",
      "30\n",
      "12\n",
      "7\n",
      "14\n",
      "35\n",
      "42\n"
     ]
    }
   ],
   "source": [
    "#Question 7 HS Answer Code\n",
    "\n",
    "num1 = [1,4,6,7]\n",
    "num2 = [1,2,5,6]\n",
    "\n",
    "def program(x,y):\n",
    "    if x == y: \n",
    "        print(x+y)\n",
    "    if x != y:\n",
    "        print(x*y)\n",
    "\n",
    "program(num1[1], num2[1])\n",
    "\n",
    "for x in num1:\n",
    "    for y in num2:\n",
    "        program(x,y)"
   ]
  },
  {
   "cell_type": "code",
   "execution_count": 6,
   "metadata": {},
   "outputs": [
    {
     "name": "stdout",
     "output_type": "stream",
     "text": [
      "2\n",
      "2\n",
      "5\n",
      "6\n",
      "4\n",
      "8\n",
      "20\n",
      "24\n",
      "6\n",
      "12\n",
      "30\n",
      "12\n",
      "7\n",
      "14\n",
      "35\n",
      "42\n"
     ]
    }
   ],
   "source": [
    "#Q7 Favio Code\n",
    "\n",
    "num1 = [1,4,6,7]\n",
    "num2 = [1,2,5,6]\n",
    "\n",
    "for x in num1:\n",
    "    for y in num2:\n",
    "        if x == y:\n",
    "            print(x+y)\n",
    "        else:\n",
    "            print(x*y)"
   ]
  },
  {
   "cell_type": "code",
   "execution_count": 40,
   "metadata": {},
   "outputs": [
    {
     "name": "stdout",
     "output_type": "stream",
     "text": [
      "121\n",
      "Error, the passed value is not odd\n"
     ]
    }
   ],
   "source": [
    "#Question 8 Answer Code\n",
    "\n",
    "def square_odd_number(num):\n",
    "    if num % 2 == 1: \n",
    "        num = num**2\n",
    "        print(num)\n",
    "    if num % 2 == 0:\n",
    "        print('Error, the passed value is not odd')\n",
    "        \n",
    "square_odd_number(11)\n",
    "square_odd_number(14)\n",
    "    "
   ]
  },
  {
   "cell_type": "code",
   "execution_count": 10,
   "metadata": {},
   "outputs": [
    {
     "name": "stdout",
     "output_type": "stream",
     "text": [
      "121\n",
      "Error, the passed value is not odd\n"
     ]
    }
   ],
   "source": [
    "#Q8 Favio Code\n",
    "\n",
    "def square_odd_number(x):\n",
    "    if x % 2 != 0:\n",
    "        return x**2\n",
    "    else: \n",
    "        return \"Error, the passed value is not odd\"\n",
    "\n",
    "print(square_odd_number(11))\n",
    "print(square_odd_number(14))"
   ]
  },
  {
   "cell_type": "code",
   "execution_count": 22,
   "metadata": {},
   "outputs": [
    {
     "data": {
      "text/plain": [
       "10"
      ]
     },
     "execution_count": 22,
     "metadata": {},
     "output_type": "execute_result"
    }
   ],
   "source": [
    "#Extra Question - Favio Code\n",
    "#create function called my_func that will take any string and check if that string contains the letter g, if it does, \n",
    "#return the length of the string, if it doesn't return the reverse of that string\n",
    "#test with Google, Amazon, Games, Life Generosity\n",
    "\n",
    "def my_func(string):\n",
    "    string = string.lower()\n",
    "    if 'g' in string:\n",
    "        return len(string)\n",
    "    else: \n",
    "        return string[::-1]\n",
    "\n",
    "my_func(\"Google\")\n",
    "my_func(\"Amazon\")\n",
    "my_func(\"Games\")\n",
    "my_func(\"Life\")\n",
    "my_func(\"Generosity\")\n"
   ]
  },
  {
   "cell_type": "code",
   "execution_count": null,
   "metadata": {},
   "outputs": [],
   "source": []
  },
  {
   "cell_type": "code",
   "execution_count": null,
   "metadata": {},
   "outputs": [],
   "source": []
  }
 ],
 "metadata": {
  "kernelspec": {
   "display_name": "Python 3",
   "language": "python",
   "name": "python3"
  },
  "language_info": {
   "codemirror_mode": {
    "name": "ipython",
    "version": 3
   },
   "file_extension": ".py",
   "mimetype": "text/x-python",
   "name": "python",
   "nbconvert_exporter": "python",
   "pygments_lexer": "ipython3",
   "version": "3.8.5"
  }
 },
 "nbformat": 4,
 "nbformat_minor": 4
}
